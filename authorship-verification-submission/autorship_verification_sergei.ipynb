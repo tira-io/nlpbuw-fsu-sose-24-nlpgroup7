{
 "cells": [
  {
   "cell_type": "code",
   "execution_count": null,
   "metadata": {},
   "outputs": [],
   "source": [
    "from pathlib import Path\n",
    "\n",
    "from tira.rest_api_client import Client\n",
    "from tira.third_party_integrations import get_output_directory\n",
    "\n",
    "if __name__ == \"__main__\":\n",
    "\n",
    "    tira = Client()\n",
    "\n",
    "    # loading train data\n",
    "    text_train = tira.pd.inputs(\n",
    "        \"nlpbuw-fsu-sose-24\", \"authorship-verification-train-20240408-training\"\n",
    "    )\n",
    "    targets_train = tira.pd.truths(\n",
    "        \"nlpbuw-fsu-sose-24\", \"authorship-verification-train-20240408-training\"\n",
    "    )\n",
    "    # loading validation data (automatically replaced by test data when run on tira)\n",
    "    text_validation = tira.pd.inputs(\n",
    "        \"nlpbuw-fsu-sose-24\", \"authorship-verification-validation-20240408-training\"\n",
    "    )\n",
    "    targets_validation = tira.pd.truths(\n",
    "        \"nlpbuw-fsu-sose-24\", \"authorship-verification-validation-20240408-training\"\n",
    "    )"
   ]
  }
 ],
 "metadata": {
  "language_info": {
   "name": "python"
  }
 },
 "nbformat": 4,
 "nbformat_minor": 2
}
